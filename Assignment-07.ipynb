{
 "cells": [
  {
   "cell_type": "markdown",
   "id": "ffc6c94a",
   "metadata": {},
   "source": [
    "Q1. What is Abstraction in OOps? Explain with an example."
   ]
  },
  {
   "cell_type": "markdown",
   "id": "72de3bab",
   "metadata": {},
   "source": [
    "Abstraction is all about hiding the unnecessary details and information from the user and introduction more security and structure to our code"
   ]
  },
  {
   "cell_type": "code",
   "execution_count": 1,
   "id": "c3d3993a",
   "metadata": {},
   "outputs": [],
   "source": [
    "from abc import ABC, abstractmethod"
   ]
  },
  {
   "cell_type": "code",
   "execution_count": 2,
   "id": "f1586504",
   "metadata": {},
   "outputs": [],
   "source": [
    "class Polygon(ABC):\n",
    " \n",
    "    @abstractmethod\n",
    "    def noofsides(self):\n",
    "        pass"
   ]
  },
  {
   "cell_type": "code",
   "execution_count": 3,
   "id": "9f7745a5",
   "metadata": {},
   "outputs": [],
   "source": [
    "class Triangle(Polygon):\n",
    " \n",
    "    # overriding abstract method\n",
    "    def noofsides(self):\n",
    "        print(\"I have 3 sides\")"
   ]
  },
  {
   "cell_type": "code",
   "execution_count": 4,
   "id": "ee3468ca",
   "metadata": {},
   "outputs": [],
   "source": [
    "class Pentagon(Polygon):\n",
    " \n",
    "    # overriding abstract method\n",
    "    def noofsides(self):\n",
    "        print(\"I have 5 sides\")"
   ]
  },
  {
   "cell_type": "code",
   "execution_count": 5,
   "id": "0643bc29",
   "metadata": {},
   "outputs": [
    {
     "name": "stdout",
     "output_type": "stream",
     "text": [
      "I have 3 sides\n"
     ]
    }
   ],
   "source": [
    "R = Triangle()\n",
    "R.noofsides()"
   ]
  },
  {
   "cell_type": "code",
   "execution_count": 6,
   "id": "19bf3706",
   "metadata": {},
   "outputs": [
    {
     "name": "stdout",
     "output_type": "stream",
     "text": [
      "I have 5 sides\n"
     ]
    }
   ],
   "source": [
    "R = Pentagon()\n",
    "R.noofsides()"
   ]
  },
  {
   "cell_type": "code",
   "execution_count": null,
   "id": "b259c5e3",
   "metadata": {},
   "outputs": [],
   "source": []
  },
  {
   "cell_type": "markdown",
   "id": "8556ef73",
   "metadata": {},
   "source": [
    "Q2. Differentiate between Abstraction and Encapsulation. Explain with an example."
   ]
  },
  {
   "cell_type": "markdown",
   "id": "263c2662",
   "metadata": {},
   "source": [
    "Abstraction is a process of hiding the implementation details of a system from the user, and only the functional details will be available to the user end. On the other hand, Encapsulation is a method of wrapping up the data and code acting on the data into a single unit."
   ]
  },
  {
   "cell_type": "markdown",
   "id": "9e32828a",
   "metadata": {},
   "source": [
    "Example between the encapsulation and the abstraction is the hiding the implementaion detail while the encapsulation is all about wrapping the data to increase the data security"
   ]
  },
  {
   "cell_type": "code",
   "execution_count": null,
   "id": "18a3ecfc",
   "metadata": {},
   "outputs": [],
   "source": []
  },
  {
   "cell_type": "code",
   "execution_count": null,
   "id": "e4ef521e",
   "metadata": {},
   "outputs": [],
   "source": []
  },
  {
   "cell_type": "markdown",
   "id": "75b4030c",
   "metadata": {},
   "source": [
    "Q3. What is abc module in python? Why is it used?"
   ]
  },
  {
   "cell_type": "markdown",
   "id": "8987d1ff",
   "metadata": {},
   "source": [
    "Python has a module called abc (abstract base class) that offers the necessary tools for crafting an abstract base class. it is used to create the abstract class which will provide the structure for the other derived classes"
   ]
  },
  {
   "cell_type": "code",
   "execution_count": null,
   "id": "bc2683f3",
   "metadata": {},
   "outputs": [],
   "source": []
  },
  {
   "cell_type": "markdown",
   "id": "8acdfcfe",
   "metadata": {},
   "source": [
    "Q4. How can we achieve data abstraction?"
   ]
  },
  {
   "cell_type": "markdown",
   "id": "33c9fd02",
   "metadata": {},
   "source": [
    "Data Abstraction in Python can be achieved through creating abstract classes and inheriting them later"
   ]
  },
  {
   "cell_type": "code",
   "execution_count": null,
   "id": "b64c914b",
   "metadata": {},
   "outputs": [],
   "source": []
  },
  {
   "cell_type": "markdown",
   "id": "e27858a8",
   "metadata": {},
   "source": [
    "Q5. Can we create an instance of an abstract class? Explain your answer."
   ]
  },
  {
   "cell_type": "markdown",
   "id": "3c95b5e2",
   "metadata": {},
   "source": [
    "No. because its child class will provide the implementation for all the abstract methods and if in any chance it is not provided then it should also be declared as an abstract class."
   ]
  },
  {
   "cell_type": "code",
   "execution_count": null,
   "id": "41e4b1f9",
   "metadata": {},
   "outputs": [],
   "source": []
  },
  {
   "cell_type": "code",
   "execution_count": null,
   "id": "bd963cc6",
   "metadata": {},
   "outputs": [],
   "source": []
  }
 ],
 "metadata": {
  "kernelspec": {
   "display_name": "Python 3 (ipykernel)",
   "language": "python",
   "name": "python3"
  },
  "language_info": {
   "codemirror_mode": {
    "name": "ipython",
    "version": 3
   },
   "file_extension": ".py",
   "mimetype": "text/x-python",
   "name": "python",
   "nbconvert_exporter": "python",
   "pygments_lexer": "ipython3",
   "version": "3.9.12"
  }
 },
 "nbformat": 4,
 "nbformat_minor": 5
}
